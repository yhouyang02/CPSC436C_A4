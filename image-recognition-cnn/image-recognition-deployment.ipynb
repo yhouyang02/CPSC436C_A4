{
 "cells": [
  {
   "cell_type": "markdown",
   "id": "f1f7fb43-7e13-45c3-a8b0-b1f6a4a64f67",
   "metadata": {},
   "source": [
    "#### 1. Creating Initial Variables"
   ]
  },
  {
   "cell_type": "code",
   "execution_count": null,
   "id": "a199a73e-82e1-4309-9b55-b96a3b7bf6e7",
   "metadata": {
    "tags": []
   },
   "outputs": [],
   "source": [
    "import sagemaker\n",
    "from sagemaker.tensorflow import TensorFlow\n",
    "import boto3\n",
    "import os\n",
    "\n",
    "# SageMaker session and role\n",
    "role = sagemaker.get_execution_role()\n",
    "sess = sagemaker.Session()\n",
    "bucket = sess.default_bucket()\n",
    "\n",
    "# S3 paths\n",
    "s3_prefix = \"cnn-script-mode-workflow\"\n",
    "cnn_s3_prefix = f\"{s3_prefix}/cnn\"\n",
    "cnn_train_s3_uri = f\"s3://{bucket}/{cnn_s3_prefix}/train\"\n",
    "\n",
    "# Directory containing .cnn files\n",
    "train_dir = os.path.join(os.getcwd(), \"\")"
   ]
  },
  {
   "cell_type": "markdown",
   "id": "2b982c6b-8cf3-4bb3-b729-274532c00c0e",
   "metadata": {},
   "source": [
    "#### 2. Uploading Training Data to S3"
   ]
  },
  {
   "cell_type": "code",
   "execution_count": null,
   "id": "22d39d91-00e7-4f94-833e-38a6b7d16120",
   "metadata": {
    "tags": []
   },
   "outputs": [],
   "source": [
    "s3_resource_bucket = boto3.Session().resource(\"s3\").Bucket(bucket)\n",
    "s3_resource_bucket.Object(os.path.join(cnn_s3_prefix, \"train.cnn\")).upload_file(\n",
    "    train_dir + \"/train.cnn\"\n",
    ")"
   ]
  },
  {
   "cell_type": "markdown",
   "id": "5e70e286-20ef-4de2-9075-be9819743afd",
   "metadata": {},
   "source": [
    "#### 3. Creating Estimator (w/ Hyperparameters and Paramaters)"
   ]
  },
  {
   "cell_type": "code",
   "execution_count": null,
   "id": "c33ffd91-2d6f-410b-b824-f0b36466a9c3",
   "metadata": {
    "tags": []
   },
   "outputs": [],
   "source": [
    "# Hyperparameters\n",
    "hyperparameters = {\n",
    "    \"epochs\": 3,\n",
    "    \"batch_size\": 32\n",
    "}\n",
    "\n",
    "entry_point = \"image-recognition-script.py\"\n",
    "output_path = f\"s3://{bucket}/{s3_prefix}/output\"\n",
    "train_instance_type = \"ml.g4dn.4xlarge\" # GPU instance\n",
    "\n",
    "# Estimator parameters\n",
    "estimator_parameters = {\n",
    "    \"entry_point\": entry_point,\n",
    "    \"source_dir\": \"scripts\",\n",
    "    \"framework_version\": \"2.4\",\n",
    "    \"py_version\": \"py37\",\n",
    "    \"instance_type\": train_instance_type,\n",
    "    \"instance_count\": 1,\n",
    "    \"hyperparameters\": hyperparameters,\n",
    "    \"role\": role,\n",
    "    \"base_job_name\": \"cnn-model\",\n",
    "    \"output_path\": output_path,\n",
    "}\n",
    "\n",
    "estimator = TensorFlow(**estimator_parameters)"
   ]
  },
  {
   "cell_type": "markdown",
   "id": "5463241a-d0a5-4573-a8b2-bfbed00ce960",
   "metadata": {},
   "source": [
    "#### 4. Training"
   ]
  },
  {
   "cell_type": "code",
   "execution_count": null,
   "id": "09c1c954-46bf-43e9-ae28-601a25b3aec1",
   "metadata": {
    "tags": []
   },
   "outputs": [],
   "source": [
    "inputs = {\n",
    "    \"train\": cnn_train_s3_uri\n",
    "}\n",
    "\n",
    "estimator.fit(inputs)"
   ]
  },
  {
   "cell_type": "markdown",
   "id": "9e20d24f-9aa6-4ce1-bce6-1bd6ba149c10",
   "metadata": {},
   "source": [
    "#### 5. Deploying the Model to an Endpoint"
   ]
  },
  {
   "cell_type": "code",
   "execution_count": null,
   "id": "61c18517-f88b-4070-8fa6-56ecb67bed21",
   "metadata": {
    "tags": []
   },
   "outputs": [],
   "source": [
    "cnn_predictor = estimator.deploy(\n",
    "    initial_instance_count=1,\n",
    "    instance_type=\"ml.g4dn.4xlarge\", # GPU instance\n",
    "    endpoint_name=\"cnn-endpoint-2\"\n",
    ")"
   ]
  },
  {
   "cell_type": "markdown",
   "id": "6bfbdcce",
   "metadata": {},
   "source": [
    "#### 6. Predictions"
   ]
  },
  {
   "cell_type": "code",
   "execution_count": null,
   "id": "3a320978",
   "metadata": {},
   "outputs": [],
   "source": [
    "import pickle\n",
    "import numpy as np\n",
    "\n",
    "# Prepare test data\n",
    "def getTestData():\n",
    "    def unpickle(file):\n",
    "        with open(file, 'rb') as fo:\n",
    "            dict = pickle.load(fo, encoding='bytes')\n",
    "        return dict\n",
    "    fileNameTestBatch = './cifar-10-batches-py/test_batch'\n",
    "    test_data = unpickle(fileNameTestBatch)[b'data']\n",
    "    test_data = test_data.reshape(-1, 32, 32, 3) / 255.0\n",
    "    test_labels = np.array(unpickle(fileNameTestBatch)[b'labels'])\n",
    "    \n",
    "    num_samples_to_select = 600\n",
    "    random_indices = np.random.choice(test_data.shape[0], num_samples_to_select, replace=False)\n",
    "    selected_test_data = test_data[random_indices]\n",
    "    selected_test_labels = test_labels[random_indices]\n",
    "    \n",
    "    return selected_test_data, selected_test_labels\n",
    "\n",
    "test_data, test_labels = getTestData()\n",
    "\n",
    "from sklearn.metrics import accuracy_score\n",
    "def getAccuracyOfPrediction(cnn_predictions, test_labels):\n",
    "    cnn_predicted_labels = np.argmax(cnn_predictions, axis=1)\n",
    "    accuracy = accuracy_score(test_labels, cnn_predicted_labels)\n",
    "    print(\"Accuracy:\", accuracy)"
   ]
  },
  {
   "cell_type": "markdown",
   "id": "36530357-c6fd-4587-8499-0afd1ab40aba",
   "metadata": {},
   "source": [
    "#### 7. Deleting the Endpoint"
   ]
  },
  {
   "cell_type": "code",
   "execution_count": null,
   "id": "c64ad2a2-59fb-4d6b-9ca6-541ccb81cb96",
   "metadata": {
    "tags": []
   },
   "outputs": [],
   "source": [
    "sagemaker.Session().delete_endpoint(\"cnn-endpoint-2\")\n",
    "sagemaker.Session().delete_endpoint_config(\"cnn-endpoint-2\")"
   ]
  }
 ],
 "metadata": {
  "kernelspec": {
   "display_name": "conda_tensorflow2_p310",
   "language": "python",
   "name": "conda_tensorflow2_p310"
  },
  "language_info": {
   "codemirror_mode": {
    "name": "ipython",
    "version": 3
   },
   "file_extension": ".py",
   "mimetype": "text/x-python",
   "name": "python",
   "nbconvert_exporter": "python",
   "pygments_lexer": "ipython3",
   "version": "3.10.15"
  }
 },
 "nbformat": 4,
 "nbformat_minor": 5
}
